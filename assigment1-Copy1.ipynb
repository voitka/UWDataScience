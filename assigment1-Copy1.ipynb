{
 "cells": [
  {
   "cell_type": "markdown",
   "metadata": {},
   "source": [
    "# Assigment 1. Data set exploration. \n"
   ]
  },
  {
   "cell_type": "markdown",
   "metadata": {},
   "source": [
    "We have a data set about characteristics of over 750 buildings. The efficiency of the building is measured as either heating load or cooling load. Our goal is to find three interesting relationships within the variables which help us understand the energy efficiency of these buildings. For this I will use visualization and summary statistical methods to explore a data set.\n",
    "\n",
    "First, we load the data file and look into it. I change two variables to categorical type: Orientation and Glazing.Area.Distribution.   "
   ]
  },
  {
   "cell_type": "code",
   "execution_count": 4,
   "metadata": {
    "collapsed": false
   },
   "outputs": [
    {
     "name": "stdout",
     "output_type": "stream",
     "text": [
      "'data.frame':\t768 obs. of  10 variables:\n",
      " $ Relative.Compactness     : num  0.98 0.98 0.98 0.98 0.9 0.9 0.9 0.9 0.86 0.86 ...\n",
      " $ Surface.Area             : num  514 514 514 514 564 ...\n",
      " $ Wall.Area                : num  294 294 294 294 318 ...\n",
      " $ Roof.Area                : num  110 110 110 110 122 ...\n",
      " $ Overall.Height           : num  7 7 7 7 7 7 7 7 7 7 ...\n",
      " $ Orientation              : Factor w/ 4 levels \"2\",\"3\",\"4\",\"5\": 1 2 3 4 1 2 3 4 1 2 ...\n",
      " $ Glazing.Area             : num  0 0 0 0 0 0 0 0 0 0 ...\n",
      " $ Glazing.Area.Distribution: Factor w/ 6 levels \"0\",\"1\",\"2\",\"3\",..: 1 1 1 1 1 1 1 1 1 1 ...\n",
      " $ Heating.Load             : num  15.6 15.6 15.6 15.6 20.8 ...\n",
      " $ Cooling.Load             : num  21.3 21.3 21.3 21.3 28.3 ...\n"
     ]
    }
   ],
   "source": [
    "read.efficiency = function(file = 'EnergyEfficiencyData.csv'){\n",
    "  ## Read the csv file\n",
    "  en.efficiency <- read.csv(file, header = TRUE)\n",
    "  \n",
    "  ## Coerce some numeric columns to categorycal\n",
    "  catcols <- c('Orientation', 'Glazing.Area.Distribution')\n",
    "  en.efficiency[, catcols] <- lapply(en.efficiency[, catcols], as.factor)\n",
    "\n",
    "  ## Remove cases or rows with missing values. In this case we keep the \n",
    "  ## rows which do not have nas. \n",
    "  en.efficiency[complete.cases(en.efficiency), ]\n",
    "}\n",
    "\n",
    "#read data\n",
    "en.efficiency = read.efficiency()\n",
    "\n",
    "#look into data\n",
    "str(en.efficiency)"
   ]
  },
  {
   "cell_type": "markdown",
   "metadata": {},
   "source": [
    " Look into statistical summaries. We use only numerical data from our data set. \n"
   ]
  },
  {
   "cell_type": "code",
   "execution_count": 5,
   "metadata": {
    "collapsed": false,
    "scrolled": true
   },
   "outputs": [
    {
     "data": {
      "text/plain": [
       " Relative.Compactness  Surface.Area     Wall.Area       Roof.Area    \n",
       " Min.   :0.6200       Min.   :514.5   Min.   :245.0   Min.   :110.2  \n",
       " 1st Qu.:0.6825       1st Qu.:606.4   1st Qu.:294.0   1st Qu.:140.9  \n",
       " Median :0.7500       Median :673.8   Median :318.5   Median :183.8  \n",
       " Mean   :0.7642       Mean   :671.7   Mean   :318.5   Mean   :176.6  \n",
       " 3rd Qu.:0.8300       3rd Qu.:741.1   3rd Qu.:343.0   3rd Qu.:220.5  \n",
       " Max.   :0.9800       Max.   :808.5   Max.   :416.5   Max.   :220.5  \n",
       " Overall.Height  Glazing.Area     Heating.Load    Cooling.Load  \n",
       " Min.   :3.50   Min.   :0.0000   Min.   : 6.01   Min.   :10.90  \n",
       " 1st Qu.:3.50   1st Qu.:0.1000   1st Qu.:12.99   1st Qu.:15.62  \n",
       " Median :5.25   Median :0.2500   Median :18.95   Median :22.08  \n",
       " Mean   :5.25   Mean   :0.2344   Mean   :22.31   Mean   :24.59  \n",
       " 3rd Qu.:7.00   3rd Qu.:0.4000   3rd Qu.:31.67   3rd Qu.:33.13  \n",
       " Max.   :7.00   Max.   :0.4000   Max.   :43.10   Max.   :48.03  "
      ]
     },
     "metadata": {},
     "output_type": "display_data"
    }
   ],
   "source": [
    "sub.data = en.efficiency[, c('Relative.Compactness', 'Surface.Area',\n",
    "                             'Wall.Area', 'Roof.Area', 'Overall.Height',\n",
    "                             'Glazing.Area', 'Heating.Load','Cooling.Load')]\n",
    "summary(sub.data)"
   ]
  },
  {
   "cell_type": "markdown",
   "metadata": {},
   "source": [
    "Here we can see min and max values of our variables, compare Mean and Medium and see that almost all of them have screwed distribution.\n"
   ]
  },
  {
   "cell_type": "markdown",
   "metadata": {},
   "source": [
    "# Conclusion 1 \n",
    "We can look into correlation as well. From the table below we can see that Heating Load and Cooling Load are strongly correlated. There are strong negative correlations between Heating and Cooling Load with Roof Area as well.  "
   ]
  },
  {
   "cell_type": "code",
   "execution_count": 6,
   "metadata": {
    "collapsed": false,
    "scrolled": true
   },
   "outputs": [
    {
     "data": {
      "text/html": [
       "<table>\n",
       "<thead><tr><th></th><th scope=col>Relative.Compactness</th><th scope=col>Surface.Area</th><th scope=col>Wall.Area</th><th scope=col>Roof.Area</th><th scope=col>Overall.Height</th><th scope=col>Glazing.Area</th><th scope=col>Heating.Load</th><th scope=col>Cooling.Load</th></tr></thead>\n",
       "<tbody>\n",
       "\t<tr><th scope=row>Relative.Compactness</th><td> 1.000000e+00</td><td>-9.919015e-01</td><td>-0.2037817   </td><td>-8.688234e-01</td><td> 0.8277473   </td><td> 7.617400e-20</td><td> 0.6222722   </td><td> 0.6343391   </td></tr>\n",
       "\t<tr><th scope=row>Surface.Area</th><td>-9.919015e-01</td><td> 1.000000e+00</td><td> 0.1955016   </td><td> 8.807195e-01</td><td>-0.8581477   </td><td> 4.664140e-20</td><td>-0.6581202   </td><td>-0.6729989   </td></tr>\n",
       "\t<tr><th scope=row>Wall.Area</th><td>-2.037817e-01</td><td> 1.955016e-01</td><td> 1.0000000   </td><td>-2.923165e-01</td><td> 0.2809757   </td><td> 0.000000e+00</td><td> 0.4556712   </td><td> 0.4271170   </td></tr>\n",
       "\t<tr><th scope=row>Roof.Area</th><td>-8.688234e-01</td><td> 8.807195e-01</td><td>-0.2923165   </td><td> 1.000000e+00</td><td>-0.9725122   </td><td>-1.197187e-19</td><td>-0.8618283   </td><td>-0.8625466   </td></tr>\n",
       "\t<tr><th scope=row>Overall.Height</th><td> 8.277473e-01</td><td>-8.581477e-01</td><td> 0.2809757   </td><td>-9.725122e-01</td><td> 1.0000000   </td><td> 0.000000e+00</td><td> 0.8894307   </td><td> 0.8957852   </td></tr>\n",
       "\t<tr><th scope=row>Glazing.Area</th><td> 7.617400e-20</td><td> 4.664140e-20</td><td> 0.0000000   </td><td>-1.197187e-19</td><td> 0.0000000   </td><td> 1.000000e+00</td><td> 0.2698410   </td><td> 0.2075050   </td></tr>\n",
       "\t<tr><th scope=row>Heating.Load</th><td> 6.222722e-01</td><td>-6.581202e-01</td><td> 0.4556712   </td><td>-8.618283e-01</td><td> 0.8894307   </td><td> 2.698410e-01</td><td> 1.0000000   </td><td> 0.9758618   </td></tr>\n",
       "\t<tr><th scope=row>Cooling.Load</th><td> 6.343391e-01</td><td>-6.729989e-01</td><td> 0.4271170   </td><td>-8.625466e-01</td><td> 0.8957852   </td><td> 2.075050e-01</td><td> 0.9758618   </td><td> 1.0000000   </td></tr>\n",
       "</tbody>\n",
       "</table>\n"
      ],
      "text/latex": [
       "\\begin{tabular}{r|llllllll}\n",
       "  & Relative.Compactness & Surface.Area & Wall.Area & Roof.Area & Overall.Height & Glazing.Area & Heating.Load & Cooling.Load\\\\\n",
       "\\hline\n",
       "\tRelative.Compactness &  1.000000e+00 & -9.919015e-01 & -0.2037817    & -8.688234e-01 &  0.8277473    &  7.617400e-20 &  0.6222722    &  0.6343391   \\\\\n",
       "\tSurface.Area & -9.919015e-01 &  1.000000e+00 &  0.1955016    &  8.807195e-01 & -0.8581477    &  4.664140e-20 & -0.6581202    & -0.6729989   \\\\\n",
       "\tWall.Area & -2.037817e-01 &  1.955016e-01 &  1.0000000    & -2.923165e-01 &  0.2809757    &  0.000000e+00 &  0.4556712    &  0.4271170   \\\\\n",
       "\tRoof.Area & -8.688234e-01 &  8.807195e-01 & -0.2923165    &  1.000000e+00 & -0.9725122    & -1.197187e-19 & -0.8618283    & -0.8625466   \\\\\n",
       "\tOverall.Height &  8.277473e-01 & -8.581477e-01 &  0.2809757    & -9.725122e-01 &  1.0000000    &  0.000000e+00 &  0.8894307    &  0.8957852   \\\\\n",
       "\tGlazing.Area &  7.617400e-20 &  4.664140e-20 &  0.0000000    & -1.197187e-19 &  0.0000000    &  1.000000e+00 &  0.2698410    &  0.2075050   \\\\\n",
       "\tHeating.Load &  6.222722e-01 & -6.581202e-01 &  0.4556712    & -8.618283e-01 &  0.8894307    &  2.698410e-01 &  1.0000000    &  0.9758618   \\\\\n",
       "\tCooling.Load &  6.343391e-01 & -6.729989e-01 &  0.4271170    & -8.625466e-01 &  0.8957852    &  2.075050e-01 &  0.9758618    &  1.0000000   \\\\\n",
       "\\end{tabular}\n"
      ],
      "text/markdown": [
       "\n",
       "| <!--/--> | Relative.Compactness | Surface.Area | Wall.Area | Roof.Area | Overall.Height | Glazing.Area | Heating.Load | Cooling.Load | \n",
       "|---|---|---|---|---|---|---|---|\n",
       "| Relative.Compactness |  1.000000e+00 | -9.919015e-01 | -0.2037817    | -8.688234e-01 |  0.8277473    |  7.617400e-20 |  0.6222722    |  0.6343391    | \n",
       "| Surface.Area | -9.919015e-01 |  1.000000e+00 |  0.1955016    |  8.807195e-01 | -0.8581477    |  4.664140e-20 | -0.6581202    | -0.6729989    | \n",
       "| Wall.Area | -2.037817e-01 |  1.955016e-01 |  1.0000000    | -2.923165e-01 |  0.2809757    |  0.000000e+00 |  0.4556712    |  0.4271170    | \n",
       "| Roof.Area | -8.688234e-01 |  8.807195e-01 | -0.2923165    |  1.000000e+00 | -0.9725122    | -1.197187e-19 | -0.8618283    | -0.8625466    | \n",
       "| Overall.Height |  8.277473e-01 | -8.581477e-01 |  0.2809757    | -9.725122e-01 |  1.0000000    |  0.000000e+00 |  0.8894307    |  0.8957852    | \n",
       "| Glazing.Area |  7.617400e-20 |  4.664140e-20 |  0.0000000    | -1.197187e-19 |  0.0000000    |  1.000000e+00 |  0.2698410    |  0.2075050    | \n",
       "| Heating.Load |  6.222722e-01 | -6.581202e-01 |  0.4556712    | -8.618283e-01 |  0.8894307    |  2.698410e-01 |  1.0000000    |  0.9758618    | \n",
       "| Cooling.Load |  6.343391e-01 | -6.729989e-01 |  0.4271170    | -8.625466e-01 |  0.8957852    |  2.075050e-01 |  0.9758618    |  1.0000000    | \n",
       "\n",
       "\n"
      ],
      "text/plain": [
       "                     Relative.Compactness Surface.Area  Wall.Area \n",
       "Relative.Compactness  1.000000e+00        -9.919015e-01 -0.2037817\n",
       "Surface.Area         -9.919015e-01         1.000000e+00  0.1955016\n",
       "Wall.Area            -2.037817e-01         1.955016e-01  1.0000000\n",
       "Roof.Area            -8.688234e-01         8.807195e-01 -0.2923165\n",
       "Overall.Height        8.277473e-01        -8.581477e-01  0.2809757\n",
       "Glazing.Area          7.617400e-20         4.664140e-20  0.0000000\n",
       "Heating.Load          6.222722e-01        -6.581202e-01  0.4556712\n",
       "Cooling.Load          6.343391e-01        -6.729989e-01  0.4271170\n",
       "                     Roof.Area     Overall.Height Glazing.Area  Heating.Load\n",
       "Relative.Compactness -8.688234e-01  0.8277473      7.617400e-20  0.6222722  \n",
       "Surface.Area          8.807195e-01 -0.8581477      4.664140e-20 -0.6581202  \n",
       "Wall.Area            -2.923165e-01  0.2809757      0.000000e+00  0.4556712  \n",
       "Roof.Area             1.000000e+00 -0.9725122     -1.197187e-19 -0.8618283  \n",
       "Overall.Height       -9.725122e-01  1.0000000      0.000000e+00  0.8894307  \n",
       "Glazing.Area         -1.197187e-19  0.0000000      1.000000e+00  0.2698410  \n",
       "Heating.Load         -8.618283e-01  0.8894307      2.698410e-01  1.0000000  \n",
       "Cooling.Load         -8.625466e-01  0.8957852      2.075050e-01  0.9758618  \n",
       "                     Cooling.Load\n",
       "Relative.Compactness  0.6343391  \n",
       "Surface.Area         -0.6729989  \n",
       "Wall.Area             0.4271170  \n",
       "Roof.Area            -0.8625466  \n",
       "Overall.Height        0.8957852  \n",
       "Glazing.Area          0.2075050  \n",
       "Heating.Load          0.9758618  \n",
       "Cooling.Load          1.0000000  "
      ]
     },
     "metadata": {},
     "output_type": "display_data"
    }
   ],
   "source": [
    "cor(sub.data)"
   ]
  },
  {
   "cell_type": "markdown",
   "metadata": {},
   "source": [
    "# Conclusion 2\n",
    "\n"
   ]
  },
  {
   "cell_type": "markdown",
   "metadata": {},
   "source": [
    "Next, let's visualize some data.\n",
    "From barplot, we can see that we have equal number of buildings with the same orientation. \n",
    "I use boxplot plot to see correlation between heating load and orientation of buildings. \n",
    "From these boxplots and the fact that we have equal number of buildings with the same orientation we can make a conclusion that heating load doesn't depend on orientation."
   ]
  },
  {
   "cell_type": "code",
   "execution_count": 11,
   "metadata": {
    "collapsed": false
   },
   "outputs": [
    {
     "data": {},
     "metadata": {},
     "output_type": "display_data"
    },
    {
     "data": {
      "image/png": "[encoded data removed]",
      "text/plain": [
       "plot without title"
      ]
     },
     "metadata": {},
     "output_type": "display_data"
    }
   ],
   "source": [
    "require(ggplot2)\n",
    "ggplot(en.efficiency, aes(x=reorder(Orientation,Orientation, \n",
    "                                    function(x)-length(x)))) +\n",
    "  geom_bar() + \n",
    "  theme(axis.text.x = element_text(angle = 90, hjust = 1)) + \n",
    "  ggtitle('Orientation') + xlab('Orientation')"
   ]
  },
  {
   "cell_type": "code",
   "execution_count": 8,
   "metadata": {
    "collapsed": false
   },
   "outputs": [
    {
     "data": {},
     "metadata": {},
     "output_type": "display_data"
    },
    {
     "data": {
      "image/png": "[encoded data removed]",
      "text/plain": [
       "plot without title"
      ]
     },
     "metadata": {},
     "output_type": "display_data"
    }
   ],
   "source": [
    "ggplot(en.efficiency, aes(x = factor(Orientation), y = Heating.Load)) +\n",
    "geom_boxplot() + ylab('Heating Load') + xlab('Orientation') + \n",
    "ggtitle('Heating Load by Orientation')\n"
   ]
  },
  {
   "cell_type": "markdown",
   "metadata": {},
   "source": [
    "# Conclusion 3\n",
    "The heating and cooling load of buildings depends on glazing area. The bigger glazing area the bigger heating and cooling load. I based this conclusion looking into violin plot below.  "
   ]
  },
  {
   "cell_type": "code",
   "execution_count": 10,
   "metadata": {
    "collapsed": false
   },
   "outputs": [
    {
     "data": {},
     "metadata": {},
     "output_type": "display_data"
    },
    {
     "data": {},
     "metadata": {},
     "output_type": "display_data"
    },
    {
     "data": {
      "image/png": "[encoded data removed]",
      "text/plain": [
       "plot without title"
      ]
     },
     "metadata": {},
     "output_type": "display_data"
    },
    {
     "data": {
      "image/png": "[encoded data removed]",
      "text/plain": [
       "plot without title"
      ]
     },
     "metadata": {},
     "output_type": "display_data"
    }
   ],
   "source": [
    "ggplot(en.efficiency, aes(x = factor(Glazing.Area), y = Heating.Load)) + \n",
    "  geom_violin(trim = FALSE, draw_quantiles = c(0.25, 0.5, 0.75)) +\n",
    "  xlab('Glazing Area')  + ggtitle('Heating Load')\n",
    "\n",
    "\n",
    "ggplot(en.efficiency, aes(x = factor(Glazing.Area), y = Cooling.Load)) + \n",
    "  geom_violin(trim = FALSE, draw_quantiles = c(0.25, 0.5, 0.75)) +\n",
    "  xlab('Glazing Area')  + ggtitle('Cooling Load')\n",
    "\n"
   ]
  }
 ],
 "metadata": {
  "anaconda-cloud": {},
  "kernelspec": {
   "display_name": "R",
   "language": "R",
   "name": "ir"
  },
  "language_info": {
   "codemirror_mode": "r",
   "file_extension": ".r",
   "mimetype": "text/x-r-source",
   "name": "R",
   "pygments_lexer": "r",
   "version": "3.3.2"
  }
 },
 "nbformat": 4,
 "nbformat_minor": 1
}
